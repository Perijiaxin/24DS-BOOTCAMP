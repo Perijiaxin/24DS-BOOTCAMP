{
  "nbformat": 4,
  "nbformat_minor": 0,
  "metadata": {
    "colab": {
      "provenance": []
    },
    "kernelspec": {
      "name": "python3",
      "display_name": "Python 3"
    },
    "language_info": {
      "name": "python"
    }
  },
  "cells": [
    {
      "cell_type": "code",
      "execution_count": 20,
      "metadata": {
        "id": "CxRYZ_NgclV-"
      },
      "outputs": [],
      "source": [
        "import pandas as pd\n",
        "import pandas as pd\n",
        "from sklearn.model_selection import train_test_split\n",
        "from sklearn.preprocessing import OneHotEncoder\n",
        "from sklearn.compose import ColumnTransformer\n",
        "from sklearn.pipeline import Pipeline\n",
        "from sklearn.impute import SimpleImputer\n",
        "from sklearn.preprocessing import StandardScaler"
      ]
    },
    {
      "cell_type": "code",
      "source": [
        "from google.colab import drive\n",
        "drive.mount('/content/drive')"
      ],
      "metadata": {
        "colab": {
          "base_uri": "https://localhost:8080/",
          "height": 0
        },
        "id": "8-wa2XcmdBPY",
        "outputId": "4722a278-9dc5-4d44-8064-2de189134895"
      },
      "execution_count": 15,
      "outputs": [
        {
          "output_type": "stream",
          "name": "stdout",
          "text": [
            "Drive already mounted at /content/drive; to attempt to forcibly remount, call drive.mount(\"/content/drive\", force_remount=True).\n"
          ]
        }
      ]
    },
    {
      "cell_type": "code",
      "source": [
        "file_path = '/content/drive/My Drive/Colab Notebooks/employee.csv'\n",
        "data = pd.read_csv(file_path)\n",
        "print(data.head())"
      ],
      "metadata": {
        "colab": {
          "base_uri": "https://localhost:8080/",
          "height": 0
        },
        "id": "zwsuLrHFdgdN",
        "outputId": "1d2307b4-aa3e-41cf-ccfa-bfb53b020d6f"
      },
      "execution_count": 27,
      "outputs": [
        {
          "output_type": "stream",
          "name": "stdout",
          "text": [
            "   id            timestamp        country employment_status  job_title  \\\n",
            "0   1  12/11/2018 10:52:26       Slovenia         Full time  Developer   \n",
            "1   2    1/5/2017 16:57:50  United States         Full time        DBA   \n",
            "2   3   12/18/2017 8:13:15         Sweden         Full time        DBA   \n",
            "3   4   12/27/2018 4:56:52  United States         Full time        DBA   \n",
            "4   5  12/11/2018 14:07:58  United States         Full time  Developer   \n",
            "\n",
            "   job_years is_manager  hours_per_week  telecommute_days_per_week  \\\n",
            "0    4.78393        Yes            40.0                        0.0   \n",
            "1    5.00000         No            40.0                        5.0   \n",
            "2    1.00000         No            40.0                        0.0   \n",
            "3    1.00000         No            40.0                        2.0   \n",
            "4    3.00000         No            40.0                        2.0   \n",
            "\n",
            "             education is_education_computer_related certifications  \\\n",
            "0  Bachelors (4 years)                           Yes             No   \n",
            "1  Bachelors (4 years)                           Yes             No   \n",
            "2              Masters                           Yes            Yes   \n",
            "3  Bachelors (4 years)                            No             No   \n",
            "4              Masters                           Yes            Yes   \n",
            "\n",
            "         salary  \n",
            "0   7187.743094  \n",
            "1  10000.000000  \n",
            "2   7000.000000  \n",
            "3   8333.000000  \n",
            "4   7137.000000  \n"
          ]
        }
      ]
    },
    {
      "cell_type": "code",
      "source": [
        "data.drop(['id', 'timestamp'], axis=1, inplace=True)\n",
        "data['hours_per_week'].fillna(data['hours_per_week'].mean(), inplace=True)\n",
        "data['telecommute_days_per_week'].fillna(data['telecommute_days_per_week'].median(), inplace=True)\n",
        "data['is_education_computer_related'].fillna('No', inplace=True)\n",
        "\n",
        "categorical_cols = [col for col in data.columns if data[col].dtype == 'object']\n",
        "numerical_cols = [col for col in data.columns if data[col].dtype in ['int64', 'float64']]\n",
        "\n",
        "numerical_transformer = Pipeline(steps=[\n",
        "    ('imputer', SimpleImputer(strategy='mean')),\n",
        "    ('scaler', StandardScaler())\n",
        "])\n",
        "categorical_transformer = Pipeline(steps=[\n",
        "    ('imputer', SimpleImputer(strategy='constant', fill_value='missing')),\n",
        "    ('onehot', OneHotEncoder(handle_unknown='ignore'))\n",
        "])\n",
        "\n",
        "preprocessor = ColumnTransformer(\n",
        "    transformers=[\n",
        "        ('num', numerical_transformer, numerical_cols),\n",
        "        ('cat', categorical_transformer, categorical_cols)\n",
        "    ])\n",
        "\n",
        "y = data['salary']\n",
        "X = data.drop('salary', axis=1)\n",
        "\n"
      ],
      "metadata": {
        "id": "xpZEAjrAdxzf"
      },
      "execution_count": 28,
      "outputs": []
    },
    {
      "cell_type": "code",
      "source": [
        "from sklearn.linear_model import LinearRegression\n",
        "from sklearn.metrics import mean_absolute_error, mean_squared_error\n",
        "\n",
        "X_train, X_test, y_train, y_test = train_test_split(X, y, test_size=0.2, random_state=0)\n",
        "\n",
        "model = Pipeline(steps=[('preprocessor', preprocessor),\n",
        "                        ('regressor', LinearRegression())])\n",
        "model.fit(X_train, y_train)\n",
        "\n",
        "y_pred = model.predict(X_test)\n"
      ],
      "metadata": {
        "id": "52mKJt5heRQx"
      },
      "execution_count": null,
      "outputs": []
    },
    {
      "cell_type": "code",
      "source": [
        "\n",
        "mae = mean_absolute_error(y_test, y_pred)\n",
        "mse = mean_squared_error(y_test, y_pred)\n",
        "print(f\"Mean Absolute Error: {mae}\")\n",
        "print(f\"Mean Squared Error: {mse}\")\n"
      ],
      "metadata": {
        "id": "zaUTPHEQevaK"
      },
      "execution_count": null,
      "outputs": []
    }
  ]
}